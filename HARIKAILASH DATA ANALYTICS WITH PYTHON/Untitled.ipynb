{
 "cells": [
  {
   "cell_type": "code",
   "execution_count": 1,
   "id": "5db5fe4a",
   "metadata": {},
   "outputs": [
    {
     "name": "stderr",
     "output_type": "stream",
     "text": [
      "\n",
      "KeyboardInterrupt\n",
      "\n"
     ]
    }
   ],
   "source": [
    "timenow=input(\"enter time\")\n",
    "notif={1:\"wake\",2:\"this is afternoon\",3:\"this is evening\"}\n",
    "if int(timenow)<6:\n",
    "    print(f\"time is up{notif[1]}\")\n",
    "elif int(timenow)==12:\n",
    "    print(notif[2])\n",
    "elif int(timenow)>12:\n",
    "    print(notif[3])"
   ]
  },
  {
   "cell_type": "code",
   "execution_count": 4,
   "id": "b3f166b3",
   "metadata": {},
   "outputs": [
    {
     "name": "stdout",
     "output_type": "stream",
     "text": [
      "your total fare for 1 km is 2\n",
      "your total fare for 1 km is 2\n",
      "your total fare for3km is6\n",
      "your total fare for4km is8\n",
      "your total fare for5km is10\n",
      "your total fare for6km is12\n",
      "your total fare for7km is14\n",
      "your total fare for8km is16\n",
      "your total fare for9km is18\n",
      "your total fare for10km is20\n",
      "your total fare for11km is22\n",
      "your total fare for12km is24\n",
      "your total fare for13km is26\n",
      "your total fare for14km is28\n",
      "your total fare for15km is30\n",
      "your total fare for16km is32\n",
      "your total fare for17km is34\n",
      "your total fare for18km is36\n",
      "your total fare for19km is38\n",
      "your total fare for20km is40\n",
      "your total fare for21km is42\n",
      "your total fare for22km is44\n",
      "your total fare for23km is46\n",
      "your total fare for24km is48\n",
      "your total fare for25km is50\n"
     ]
    }
   ],
   "source": [
    "fare_per_km=2\n",
    "for dist in range(1,26):\n",
    "    if dist > 2:\n",
    "        total_fare=dist*2\n",
    "        print(f\"your total fare for{dist}km is{total_fare}\")\n",
    "         \n",
    "    else:\n",
    "        print(f'your total fare for 1 km is 2')"
   ]
  },
  {
   "cell_type": "code",
   "execution_count": 2,
   "id": "166f7b68",
   "metadata": {},
   "outputs": [
    {
     "name": "stdout",
     "output_type": "stream",
     "text": [
      "enter total seat capacity: 10\n",
      "your journey is not confimed\n",
      "only1tickets booked\n",
      "50% of the ticket filled the journey confirmed\n",
      "your journey is not confimed\n",
      "only2tickets booked\n",
      "50% of the ticket filled the journey confirmed\n",
      "your journey is not confimed\n",
      "only3tickets booked\n",
      "50% of the ticket filled the journey confirmed\n",
      "your journey is not confimed\n",
      "only4tickets booked\n",
      "50% of the ticket filled the journey confirmed\n",
      "your journey is not confimed\n",
      "only5tickets booked\n",
      "50% of the ticket filled the journey confirmed\n"
     ]
    }
   ],
   "source": [
    "TCS=int(input(\"enter total seat capacity: \"))\n",
    "counter=1\n",
    "while counter <=TCS/2:\n",
    "    print(f\"your journey is not confimed\")\n",
    "    print(f\"only{counter}tickets booked\")\n",
    "    counter+=1\n",
    "    print(\"50% of the ticket filled the journey confirmed\")"
   ]
  },
  {
   "cell_type": "code",
   "execution_count": 7,
   "id": "5d790391",
   "metadata": {},
   "outputs": [
    {
     "name": "stdout",
     "output_type": "stream",
     "text": [
      "enter limit12\n",
      "0\n",
      "1\n",
      "2\n",
      "3\n",
      "5\n",
      "8\n",
      "13\n",
      "21\n",
      "34\n",
      "55\n",
      "89\n",
      "144\n",
      "233\n",
      "377\n"
     ]
    }
   ],
   "source": [
    "limit=int(input(\"enter limit\"))\n",
    "count=0\n",
    "a=0\n",
    "b=1\n",
    "print(a)\n",
    "while count<=limit:\n",
    "        c=a+b\n",
    "       \n",
    "       \n",
    "        print(c)\n",
    "        count+=1\n",
    "        a=b\n",
    "        b=c"
   ]
  },
  {
   "cell_type": "code",
   "execution_count": null,
   "id": "2c5e5aec",
   "metadata": {},
   "outputs": [],
   "source": [
    "def fibonac "
   ]
  }
 ],
 "metadata": {
  "kernelspec": {
   "display_name": "Python 3 (ipykernel)",
   "language": "python",
   "name": "python3"
  },
  "language_info": {
   "codemirror_mode": {
    "name": "ipython",
    "version": 3
   },
   "file_extension": ".py",
   "mimetype": "text/x-python",
   "name": "python",
   "nbconvert_exporter": "python",
   "pygments_lexer": "ipython3",
   "version": "3.10.8"
  }
 },
 "nbformat": 4,
 "nbformat_minor": 5
}
